{
 "cells": [
  {
   "cell_type": "code",
   "execution_count": 1,
   "id": "d3cff106",
   "metadata": {},
   "outputs": [],
   "source": [
    "import pandas as pd\n",
    "\n",
    "X_train_resampled = pd.read_csv('../data/X_train_resampled.csv')\n",
    "X_val = pd.read_csv('../data/X_val.csv')\n",
    "\n",
    "Y_train_resampled = pd.read_csv('../data/Y_train_resampled.csv')\n",
    "Y_val = pd.read_csv('../data/Y_val.csv')\n",
    "\n",
    "Y_train_resampled = Y_train_resampled.squeeze()\n",
    "Y_val = Y_val.squeeze()"
   ]
  },
  {
   "cell_type": "code",
   "execution_count": 5,
   "id": "eba152b9",
   "metadata": {},
   "outputs": [],
   "source": [
    "from sklearn.svm import SVC\n",
    "from xgboost import XGBClassifier\n",
    "from sklearn.linear_model import LogisticRegression"
   ]
  },
  {
   "cell_type": "code",
   "execution_count": 8,
   "id": "bab254cd",
   "metadata": {},
   "outputs": [
    {
     "name": "stdout",
     "output_type": "stream",
     "text": [
      "LogisticRegression(class_weight='balanced') : \n",
      "Training Accuracy :  0.7615894039735099\n",
      "Validation Accuracy :  0.6862934362934363\n",
      "\n",
      "XGBClassifier(base_score=None, booster=None, callbacks=None,\n",
      "              colsample_bylevel=None, colsample_bynode=None,\n",
      "              colsample_bytree=None, device=None, early_stopping_rounds=None,\n",
      "              enable_categorical=False, eval_metric=None, feature_types=None,\n",
      "              feature_weights=None, gamma=None, grow_policy=None,\n",
      "              importance_type=None, interaction_constraints=None,\n",
      "              learning_rate=None, max_bin=None, max_cat_threshold=None,\n",
      "              max_cat_to_onehot=None, max_delta_step=None, max_depth=None,\n",
      "              max_leaves=None, min_child_weight=None, missing=nan,\n",
      "              monotone_constraints=None, multi_strategy=None, n_estimators=None,\n",
      "              n_jobs=None, num_parallel_tree=None, ...) : \n",
      "Training Accuracy :  1.0\n",
      "Validation Accuracy :  0.7586872586872586\n",
      "\n",
      "SVC(probability=True) : \n",
      "Training Accuracy :  0.8079470198675498\n",
      "Validation Accuracy :  0.6911196911196911\n",
      "\n"
     ]
    }
   ],
   "source": [
    "from sklearn.metrics import roc_auc_score as ras\n",
    "\n",
    "models = [LogisticRegression(class_weight='balanced'), XGBClassifier(), SVC(kernel='rbf', probability=True)] \n",
    "for model in models:\n",
    "    model.fit(X_train_resampled, Y_train_resampled)\n",
    "    print(f'{model} : ')\n",
    "\n",
    "    train_preds = model.predict(X_train_resampled)\n",
    "    print('Training Accuracy : ', ras(Y_train_resampled, train_preds))\n",
    "\n",
    "    val_preds = model.predict(X_val)\n",
    "    print('Validation Accuracy : ', ras(Y_val, val_preds))\n",
    "    print()"
   ]
  },
  {
   "cell_type": "code",
   "execution_count": 11,
   "id": "ccbe614f",
   "metadata": {},
   "outputs": [
    {
     "data": {
      "image/png": "[encoded data removed]",
      "text/plain": [
       "<Figure size 640x480 with 2 Axes>"
      ]
     },
     "metadata": {},
     "output_type": "display_data"
    }
   ],
   "source": [
    "import matplotlib.pyplot as plt\n",
    "from sklearn.metrics import ConfusionMatrixDisplay\n",
    "\n",
    "ConfusionMatrixDisplay.from_estimator(models[0], X_val, Y_val)\n",
    "plt.show()"
   ]
  },
  {
   "cell_type": "code",
   "execution_count": 14,
   "id": "b7b2620d",
   "metadata": {},
   "outputs": [
    {
     "name": "stdout",
     "output_type": "stream",
     "text": [
      "              precision    recall  f1-score   support\n",
      "\n",
      "         0.0       0.80      0.57      0.67        14\n",
      "         1.0       0.85      0.95      0.90        37\n",
      "\n",
      "    accuracy                           0.84        51\n",
      "   macro avg       0.83      0.76      0.78        51\n",
      "weighted avg       0.84      0.84      0.83        51\n",
      "\n"
     ]
    }
   ],
   "source": [
    "from sklearn.metrics import classification_report\n",
    "print(classification_report(Y_val, models[1].predict(X_val)))"
   ]
  }
 ],
 "metadata": {
  "kernelspec": {
   "display_name": "p_test",
   "language": "python",
   "name": "python3"
  },
  "language_info": {
   "codemirror_mode": {
    "name": "ipython",
    "version": 3
   },
   "file_extension": ".py",
   "mimetype": "text/x-python",
   "name": "python",
   "nbconvert_exporter": "python",
   "pygments_lexer": "ipython3",
   "version": "3.12.11"
  }
 },
 "nbformat": 4,
 "nbformat_minor": 5
}
